{
 "cells": [
  {
   "cell_type": "code",
   "execution_count": 1,
   "metadata": {},
   "outputs": [],
   "source": [
    "import numpy as np"
   ]
  },
  {
   "cell_type": "code",
   "execution_count": 6,
   "metadata": {},
   "outputs": [
    {
     "data": {
      "text/plain": [
       "array([[81, 68],\n",
       "       [92, 30],\n",
       "       [ 8, 56],\n",
       "       [32, 55],\n",
       "       [15, 79],\n",
       "       [99, 43],\n",
       "       [11, 19],\n",
       "       [90, 98],\n",
       "       [64,  4],\n",
       "       [53,  2],\n",
       "       [31,  1],\n",
       "       [91, 47],\n",
       "       [24, 64],\n",
       "       [46,  2],\n",
       "       [54, 13],\n",
       "       [23,  4],\n",
       "       [17, 60],\n",
       "       [69, 54],\n",
       "       [47, 84],\n",
       "       [89,  8]])"
      ]
     },
     "execution_count": 6,
     "metadata": {},
     "output_type": "execute_result"
    }
   ],
   "source": [
    "scores = np.random.randint(0,100,size=(20,2))\n",
    "scores"
   ]
  },
  {
   "cell_type": "code",
   "execution_count": 9,
   "metadata": {},
   "outputs": [],
   "source": [
    "#delimiter为分割符，header中分割需要与该参数一致，comments为表头符号，默认为\"#\"\n",
    "np.savetxt(\"score.csv\",scores,delimiter=\",\",header=\"English,Math\",comments=\"\")"
   ]
  }
 ],
 "metadata": {
  "kernelspec": {
   "display_name": "Python 3",
   "language": "python",
   "name": "python3"
  },
  "language_info": {
   "codemirror_mode": {
    "name": "ipython",
    "version": 3
   },
   "file_extension": ".py",
   "mimetype": "text/x-python",
   "name": "python",
   "nbconvert_exporter": "python",
   "pygments_lexer": "ipython3",
   "version": "3.8.5"
  }
 },
 "nbformat": 4,
 "nbformat_minor": 4
}
