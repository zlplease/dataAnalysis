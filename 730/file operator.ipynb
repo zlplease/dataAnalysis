{
 "cells": [
  {
   "cell_type": "code",
   "execution_count": 1,
   "metadata": {},
   "outputs": [],
   "source": [
    "import numpy as np"
   ]
  },
  {
   "cell_type": "code",
   "execution_count": 2,
   "metadata": {},
   "outputs": [
    {
     "data": {
      "text/plain": [
       "array([[62, 77],\n",
       "       [44, 76],\n",
       "       [49, 54],\n",
       "       [ 2, 17],\n",
       "       [22, 11],\n",
       "       [68, 32],\n",
       "       [ 8, 84],\n",
       "       [96, 32],\n",
       "       [58, 91],\n",
       "       [37, 91],\n",
       "       [67, 93],\n",
       "       [30, 27],\n",
       "       [37, 42],\n",
       "       [21, 62],\n",
       "       [38, 64],\n",
       "       [70, 23],\n",
       "       [85, 62],\n",
       "       [91, 78],\n",
       "       [80, 53],\n",
       "       [77, 88]])"
      ]
     },
     "execution_count": 2,
     "metadata": {},
     "output_type": "execute_result"
    }
   ],
   "source": [
    "scores = np.random.randint(0,100,size=(20,2))\n",
    "scores"
   ]
  },
  {
   "cell_type": "code",
   "execution_count": 3,
   "metadata": {},
   "outputs": [],
   "source": [
    "#delimiter为分割符，header中分割需要与该参数一致，comments为表头符号，默认为\"#\"\n",
    "#csv只能保存一维和二维数组\n",
    "np.savetxt(\"score.csv\",scores,delimiter=\",\",header=\"English,Math\",comments=\"\",fmt=\"%d\")\n",
    "#help(np.savetxt)"
   ]
  },
  {
   "cell_type": "code",
   "execution_count": 4,
   "metadata": {},
   "outputs": [
    {
     "name": "stdout",
     "output_type": "stream",
     "text": [
      "[[62 77]\n",
      " [44 76]\n",
      " [49 54]\n",
      " [ 2 17]\n",
      " [22 11]\n",
      " [68 32]\n",
      " [ 8 84]\n",
      " [96 32]\n",
      " [58 91]\n",
      " [37 91]\n",
      " [67 93]\n",
      " [30 27]\n",
      " [37 42]\n",
      " [21 62]\n",
      " [38 64]\n",
      " [70 23]\n",
      " [85 62]\n",
      " [91 78]\n",
      " [80 53]\n",
      " [77 88]]\n"
     ]
    }
   ],
   "source": [
    "b = np.loadtxt(\"score.csv\",dtype=np.int,delimiter=\",\",skiprows=1)\n",
    "print(b)\n",
    "#help(np.loadtxt)"
   ]
  },
  {
   "cell_type": "code",
   "execution_count": 5,
   "metadata": {},
   "outputs": [
    {
     "name": "stdout",
     "output_type": "stream",
     "text": [
      "[[1 7 1]\n",
      " [0 1 6]]\n"
     ]
    }
   ],
   "source": [
    "#numpy特有存储方式，save和load，save对应文件格式.npy，savez对应文件格式.npz，可以存储多维数组\n",
    "#存储非文本类型文件，不可设置header\n",
    "c = np.random.randint(0,10,size=(2,3))\n",
    "print(c)\n",
    "np.save(\"c\",c)"
   ]
  },
  {
   "cell_type": "code",
   "execution_count": 6,
   "metadata": {},
   "outputs": [
    {
     "data": {
      "text/plain": [
       "array([[1, 7, 1],\n",
       "       [0, 1, 6]])"
      ]
     },
     "execution_count": 6,
     "metadata": {},
     "output_type": "execute_result"
    }
   ],
   "source": [
    "np.load(\"c.npy\")"
   ]
  }
 ],
 "metadata": {
  "kernelspec": {
   "display_name": "Python 3",
   "language": "python",
   "name": "python3"
  },
  "language_info": {
   "codemirror_mode": {
    "name": "ipython",
    "version": 3
   },
   "file_extension": ".py",
   "mimetype": "text/x-python",
   "name": "python",
   "nbconvert_exporter": "python",
   "pygments_lexer": "ipython3",
   "version": "3.8.5"
  }
 },
 "nbformat": 4,
 "nbformat_minor": 4
}
