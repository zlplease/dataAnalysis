{
 "cells": [
  {
   "cell_type": "code",
   "execution_count": 1,
   "metadata": {},
   "outputs": [],
   "source": [
    "import numpy as np"
   ]
  },
  {
   "cell_type": "code",
   "execution_count": 3,
   "metadata": {},
   "outputs": [
    {
     "data": {
      "text/plain": [
       "array([[ 4,  0,  1,  0, 10],\n",
       "       [ 7, 17, 15, 18, 12],\n",
       "       [ 9,  6,  5,  4,  6],\n",
       "       [ 0,  6,  9,  8, 18]])"
      ]
     },
     "execution_count": 3,
     "metadata": {},
     "output_type": "execute_result"
    }
   ],
   "source": [
    "a1 = np.random.randint(0,19,size=(4,5))\n",
    "a1"
   ]
  },
  {
   "cell_type": "code",
   "execution_count": 5,
   "metadata": {},
   "outputs": [
    {
     "data": {
      "text/plain": [
       "array([[ 4,  0,  1,  0],\n",
       "       [10,  7, 17, 15],\n",
       "       [18, 12,  9,  6],\n",
       "       [ 5,  4,  6,  0],\n",
       "       [ 6,  9,  8, 18]])"
      ]
     },
     "execution_count": 5,
     "metadata": {},
     "output_type": "execute_result"
    }
   ],
   "source": [
    "#返回一个新的数组，不改变原有数组\n",
    "a1.reshape((5,4))"
   ]
  },
  {
   "cell_type": "code",
   "execution_count": 7,
   "metadata": {},
   "outputs": [
    {
     "data": {
      "text/plain": [
       "array([[ 4,  0,  1,  0, 10],\n",
       "       [ 7, 17, 15, 18, 12],\n",
       "       [ 9,  6,  5,  4,  6],\n",
       "       [ 0,  6,  9,  8, 18]])"
      ]
     },
     "execution_count": 7,
     "metadata": {},
     "output_type": "execute_result"
    }
   ],
   "source": [
    "a1"
   ]
  },
  {
   "cell_type": "code",
   "execution_count": 9,
   "metadata": {},
   "outputs": [
    {
     "data": {
      "text/plain": [
       "array([[ 4,  0,  1,  0],\n",
       "       [10,  7, 17, 15],\n",
       "       [18, 12,  9,  6],\n",
       "       [ 5,  4,  6,  0],\n",
       "       [ 6,  9,  8, 18]])"
      ]
     },
     "execution_count": 9,
     "metadata": {},
     "output_type": "execute_result"
    }
   ],
   "source": [
    "#直接对原有数组做更改\n",
    "a1.resize((5,4))\n",
    "a1"
   ]
  },
  {
   "cell_type": "code",
   "execution_count": 18,
   "metadata": {},
   "outputs": [
    {
     "name": "stdout",
     "output_type": "stream",
     "text": [
      "4\n"
     ]
    }
   ],
   "source": [
    "#flatten是将数组扁平化，然后返回拷贝\n",
    "a2 = a1.flatten()\n",
    "a2[0]=100\n",
    "print(a1[0,0])"
   ]
  },
  {
   "cell_type": "code",
   "execution_count": 20,
   "metadata": {},
   "outputs": [
    {
     "name": "stdout",
     "output_type": "stream",
     "text": [
      "100\n"
     ]
    }
   ],
   "source": [
    "#功能同flatten，但返回的是一个引用\n",
    "a3 = a1.ravel()\n",
    "a3[0] = 100\n",
    "print(a1[0,0])"
   ]
  },
  {
   "cell_type": "markdown",
   "metadata": {},
   "source": [
    "#不同数组想要组合，可以利用一下函数来实现\n",
    "#vstack(垂直叠加) hstack(水平叠加) concatenate(a,b,axis) 0为垂直，1为水平，None为合成一个一维数组(先进行叠加，再转换成一维数组)"
   ]
  },
  {
   "cell_type": "code",
   "execution_count": 25,
   "metadata": {},
   "outputs": [
    {
     "name": "stdout",
     "output_type": "stream",
     "text": [
      "我是b1\n",
      " [[1 6 6 5]\n",
      " [5 0 6 6]\n",
      " [7 1 7 7]]\n",
      "我是b2\n",
      " [[1 7 7 2]\n",
      " [0 3 8 5]]\n"
     ]
    }
   ],
   "source": [
    "b1 = np.random.randint(0,10,size=(3,4))\n",
    "b2 = np.random.randint(0,10,size=(2,4))\n",
    "print(\"我是b1\\n\",b1)\n",
    "print(\"我是b2\\n\",b2)"
   ]
  },
  {
   "cell_type": "code",
   "execution_count": 34,
   "metadata": {},
   "outputs": [
    {
     "data": {
      "text/plain": [
       "array([[1, 6, 6, 5],\n",
       "       [5, 0, 6, 6],\n",
       "       [7, 1, 7, 7],\n",
       "       [1, 7, 7, 2],\n",
       "       [0, 3, 8, 5]])"
      ]
     },
     "execution_count": 34,
     "metadata": {},
     "output_type": "execute_result"
    }
   ],
   "source": [
    "b3 = np.vstack([b1,b2])\n",
    "b3"
   ]
  },
  {
   "cell_type": "markdown",
   "metadata": {},
   "source": [
    "#垂直切割hsplit,水平切割vsplit，如果控制切割位置，第二个参数设置为元组"
   ]
  },
  {
   "cell_type": "code",
   "execution_count": 32,
   "metadata": {},
   "outputs": [
    {
     "name": "stdout",
     "output_type": "stream",
     "text": [
      "[[ 1  4  6  4 11]\n",
      " [ 8 12  2  2 14]\n",
      " [ 0  6  6  8  5]\n",
      " [14  4  6  4  1]]\n"
     ]
    },
    {
     "data": {
      "text/plain": [
       "[array([[ 1],\n",
       "        [ 8],\n",
       "        [ 0],\n",
       "        [14]]),\n",
       " array([[ 4],\n",
       "        [12],\n",
       "        [ 6],\n",
       "        [ 4]]),\n",
       " array([[6],\n",
       "        [2],\n",
       "        [6],\n",
       "        [6]]),\n",
       " array([[4],\n",
       "        [2],\n",
       "        [8],\n",
       "        [4]]),\n",
       " array([[11],\n",
       "        [14],\n",
       "        [ 5],\n",
       "        [ 1]])]"
      ]
     },
     "execution_count": 32,
     "metadata": {},
     "output_type": "execute_result"
    }
   ],
   "source": [
    "c1 = np.random.randint(0,19,size=(4,5))\n",
    "print(c1)\n",
    "np.hsplit(c1,5)"
   ]
  },
  {
   "cell_type": "code",
   "execution_count": 35,
   "metadata": {},
   "outputs": [
    {
     "data": {
      "text/plain": [
       "[array([[ 1],\n",
       "        [ 8],\n",
       "        [ 0],\n",
       "        [14]]),\n",
       " array([[ 4],\n",
       "        [12],\n",
       "        [ 6],\n",
       "        [ 4]]),\n",
       " array([[ 6,  4, 11],\n",
       "        [ 2,  2, 14],\n",
       "        [ 6,  8,  5],\n",
       "        [ 6,  4,  1]])]"
      ]
     },
     "execution_count": 35,
     "metadata": {},
     "output_type": "execute_result"
    }
   ],
   "source": [
    "np.hsplit(c1,(1,2))"
   ]
  },
  {
   "cell_type": "code",
   "execution_count": 41,
   "metadata": {},
   "outputs": [
    {
     "name": "stdout",
     "output_type": "stream",
     "text": [
      "[[0 8 2 2]\n",
      " [5 0 0 0]\n",
      " [3 5 5 3]]\n",
      "t1的转置为\n",
      " [[0 5 3]\n",
      " [8 0 5]\n",
      " [2 0 5]\n",
      " [2 0 3]]\n",
      "t1的转置为\n",
      " [[0 5 3]\n",
      " [8 0 5]\n",
      " [2 0 5]\n",
      " [2 0 3]]\n"
     ]
    }
   ],
   "source": [
    "t1 = np.random.randint(0,10,size=(3,4))\n",
    "print(t1)\n",
    "print(\"t1的转置为\\n\",t1.T)\n",
    "#transpose返回一个新的数组，引用\n",
    "print(\"t1的转置为\\n\",t1.transpose())"
   ]
  }
 ],
 "metadata": {
  "kernelspec": {
   "display_name": "Python 3",
   "language": "python",
   "name": "python3"
  },
  "language_info": {
   "codemirror_mode": {
    "name": "ipython",
    "version": 3
   },
   "file_extension": ".py",
   "mimetype": "text/x-python",
   "name": "python",
   "nbconvert_exporter": "python",
   "pygments_lexer": "ipython3",
   "version": "3.8.5"
  }
 },
 "nbformat": 4,
 "nbformat_minor": 4
}
