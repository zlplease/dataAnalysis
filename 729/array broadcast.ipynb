{
 "cells": [
  {
   "cell_type": "code",
   "execution_count": 5,
   "metadata": {},
   "outputs": [],
   "source": [
    "import numpy as np"
   ]
  },
  {
   "cell_type": "code",
   "execution_count": 16,
   "metadata": {},
   "outputs": [
    {
     "name": "stdout",
     "output_type": "stream",
     "text": [
      "[[3 8 8 7 5]\n",
      " [8 9 0 8 3]]\n",
      "[[ 6 16 16 14 10]\n",
      " [16 18  0 16  6]]\n"
     ]
    },
    {
     "data": {
      "text/plain": [
       "array([[ 4, 10, 11, 11, 10],\n",
       "       [ 9, 11,  3, 12,  8]])"
      ]
     },
     "execution_count": 16,
     "metadata": {},
     "output_type": "execute_result"
    }
   ],
   "source": [
    "a = np.random.randint(0,10,size=(2,5))\n",
    "print(a)\n",
    "print(a*2)\n",
    "b = np.array([1,2,3,4,5])\n",
    "a+b"
   ]
  },
  {
   "cell_type": "code",
   "execution_count": 4,
   "metadata": {},
   "outputs": [],
   "source": [
    "# help(np.tile)\n",
    "#如果两个数组的后缘纬度（从末尾开始算的纬度）的轴长度相符或其中一方的长度为1，即认为他们是广播兼容的，广播会在缺失或长度为1的纬度上进行"
   ]
  }
 ],
 "metadata": {
  "kernelspec": {
   "display_name": "Python 3",
   "language": "python",
   "name": "python3"
  },
  "language_info": {
   "codemirror_mode": {
    "name": "ipython",
    "version": 3
   },
   "file_extension": ".py",
   "mimetype": "text/x-python",
   "name": "python",
   "nbconvert_exporter": "python",
   "pygments_lexer": "ipython3",
   "version": "3.8.5"
  }
 },
 "nbformat": 4,
 "nbformat_minor": 4
}
