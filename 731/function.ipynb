{
 "cells": [
  {
   "cell_type": "code",
   "execution_count": 2,
   "metadata": {},
   "outputs": [],
   "source": [
    "import numpy as np"
   ]
  },
  {
   "cell_type": "code",
   "execution_count": 5,
   "metadata": {},
   "outputs": [
    {
     "data": {
      "text/plain": [
       "array([[-8.38011857,  3.88575655,  2.32669914,  0.83892183,  8.47151557],\n",
       "       [-4.68871042, -2.30297464,  9.3831956 ,  0.75656038,  1.92893979],\n",
       "       [ 8.81247987, -9.63303307, -9.73641836, -7.89702835,  5.24709273]])"
      ]
     },
     "execution_count": 5,
     "metadata": {},
     "output_type": "execute_result"
    }
   ],
   "source": [
    "a = np.random.uniform(-10,10,size=(3,5))\n",
    "a"
   ]
  },
  {
   "cell_type": "code",
   "execution_count": 7,
   "metadata": {},
   "outputs": [
    {
     "name": "stderr",
     "output_type": "stream",
     "text": [
      "<ipython-input-7-c2e2b10f3bad>:1: RuntimeWarning: invalid value encountered in sqrt\n",
      "  np.sqrt(a)\n"
     ]
    },
    {
     "data": {
      "text/plain": [
       "array([[       nan, 1.97123224, 1.52535214, 0.91592676, 2.91058681],\n",
       "       [       nan,        nan, 3.06320022, 0.86980479, 1.38886277],\n",
       "       [2.96858213,        nan,        nan,        nan, 2.29065334]])"
      ]
     },
     "execution_count": 7,
     "metadata": {},
     "output_type": "execute_result"
    }
   ],
   "source": [
    "np.sqrt(a)"
   ]
  },
  {
   "cell_type": "code",
   "execution_count": 10,
   "metadata": {},
   "outputs": [
    {
     "data": {
      "text/plain": [
       "array([[70.22638729, 15.09910399,  5.41352888,  0.70378983, 71.76657611],\n",
       "       [21.9840054 ,  5.30369217, 88.04435973,  0.57238361,  3.72080872],\n",
       "       [77.65980143, 92.79532615, 94.79784244, 62.36305676, 27.53198214]])"
      ]
     },
     "execution_count": 10,
     "metadata": {},
     "output_type": "execute_result"
    }
   ],
   "source": [
    "np.square(a)"
   ]
  },
  {
   "cell_type": "code",
   "execution_count": 11,
   "metadata": {},
   "outputs": [
    {
     "data": {
      "text/plain": [
       "array([[-1.,  1.,  1.,  1.,  1.],\n",
       "       [-1., -1.,  1.,  1.,  1.],\n",
       "       [ 1., -1., -1., -1.,  1.]])"
      ]
     },
     "execution_count": 11,
     "metadata": {},
     "output_type": "execute_result"
    }
   ],
   "source": [
    "np.sign(a)"
   ]
  }
 ],
 "metadata": {
  "kernelspec": {
   "display_name": "Python 3",
   "language": "python",
   "name": "python3"
  },
  "language_info": {
   "codemirror_mode": {
    "name": "ipython",
    "version": 3
   },
   "file_extension": ".py",
   "mimetype": "text/x-python",
   "name": "python",
   "nbconvert_exporter": "python",
   "pygments_lexer": "ipython3",
   "version": "3.8.5"
  }
 },
 "nbformat": 4,
 "nbformat_minor": 4
}
